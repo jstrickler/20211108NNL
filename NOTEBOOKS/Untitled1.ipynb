{
 "cells": [
  {
   "cell_type": "code",
   "execution_count": 1,
   "metadata": {},
   "outputs": [],
   "source": [
    "import scipy as sp"
   ]
  },
  {
   "cell_type": "code",
   "execution_count": 2,
   "metadata": {},
   "outputs": [
    {
     "name": "stderr",
     "output_type": "stream",
     "text": [
      "<ipython-input-2-eb71a1032699>:1: DeprecationWarning: scipy.array is deprecated and will be removed in SciPy 2.0.0, use numpy.array instead\n",
      "  a = sp.array([1, 2, 3])\n"
     ]
    }
   ],
   "source": [
    "a = sp.array([1, 2, 3])"
   ]
  },
  {
   "cell_type": "code",
   "execution_count": 3,
   "metadata": {},
   "outputs": [],
   "source": [
    "a = sp.ndarray((5, 5))"
   ]
  },
  {
   "cell_type": "code",
   "execution_count": 4,
   "metadata": {},
   "outputs": [
    {
     "data": {
      "text/plain": [
       "array([[ 1.08112839e+174, -4.54187112e-236,  6.48674503e+289,\n",
       "         1.40737939e+294,  6.33313065e+173],\n",
       "       [-2.22942821e-310, -3.14834286e-294,  9.48120427e+250,\n",
       "         8.09235705e+175,  4.85807417e+294],\n",
       "       [ 3.22626810e+289,  8.00562322e+289,  8.03347956e-304,\n",
       "        -3.34712549e-149, -3.44699153e-154],\n",
       "       [ 1.20274924e+111,  8.03816556e+115,  4.72337643e+019,\n",
       "         3.71256354e+289,  1.28514560e+294],\n",
       "       [ 5.73406493e+250, -2.28226588e-310,  6.62040202e-312,\n",
       "         9.78249979e-322,  0.00000000e+000]])"
      ]
     },
     "execution_count": 4,
     "metadata": {},
     "output_type": "execute_result"
    }
   ],
   "source": [
    "a"
   ]
  },
  {
   "cell_type": "code",
   "execution_count": 5,
   "metadata": {},
   "outputs": [
    {
     "name": "stderr",
     "output_type": "stream",
     "text": [
      "<ipython-input-5-d33de6c0dff4>:1: DeprecationWarning: scipy.empty is deprecated and will be removed in SciPy 2.0.0, use numpy.empty instead\n",
      "  a = sp.empty((4, 3))\n"
     ]
    }
   ],
   "source": [
    "a = sp.empty((4, 3))"
   ]
  },
  {
   "cell_type": "code",
   "execution_count": null,
   "metadata": {},
   "outputs": [],
   "source": []
  }
 ],
 "metadata": {
  "kernelspec": {
   "display_name": "Python 3",
   "language": "python",
   "name": "python3"
  },
  "language_info": {
   "codemirror_mode": {
    "name": "ipython",
    "version": 3
   },
   "file_extension": ".py",
   "mimetype": "text/x-python",
   "name": "python",
   "nbconvert_exporter": "python",
   "pygments_lexer": "ipython3",
   "version": "3.8.5"
  }
 },
 "nbformat": 4,
 "nbformat_minor": 4
}
